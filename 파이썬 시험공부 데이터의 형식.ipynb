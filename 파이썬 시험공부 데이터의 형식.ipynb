{
 "cells": [
  {
   "cell_type": "markdown",
   "id": "ec5e5d8e",
   "metadata": {},
   "source": [
    "# 리스트"
   ]
  },
  {
   "cell_type": "code",
   "execution_count": 1,
   "id": "41cae766",
   "metadata": {},
   "outputs": [
    {
     "name": "stdout",
     "output_type": "stream",
     "text": [
      "[10, 20, 30]\n",
      "[30, 40]\n",
      "append 사용 후 = [30, 10, 20, 40]\n",
      "pop로 제거한 값 = 40\n",
      "pop이후 list = [30, 10, 20]\n",
      "my list를 오름차순으로 정렬 = [10, 20, 30]\n",
      "my list를 역순으로 정렬 = [30, 20, 10]\n",
      "20 값의 위치 = 1\n",
      "insert(2,222) 후의 리스트 = [30, 20, 222, 10]\n",
      "remove(222)이후의 리스트 = [30, 20, 10]\n",
      "extend([40, 50, 60]) 이후의 리스트 = [30, 20, 10, 40, 50, 10]\n",
      "count(10)의 결과 = 2\n"
     ]
    }
   ],
   "source": [
    "#리스트\n",
    "#리스트에 접글할 때 콜론을 사용하여 범위를 지정할 수도 있다\n",
    "aa = [10, 20, 30, 40]\n",
    "print(aa[0:3])\n",
    "print(aa[2:4])\n",
    "\n",
    "my_list = [30, 10, 20]\n",
    "my_list.append(40)\n",
    "print(\"append 사용 후 = %s\" % my_list)\n",
    "\n",
    "print(\"pop로 제거한 값 = %s\" % my_list.pop(3)) # pop(인덱스)\n",
    "print(\"pop이후 list = %s\" % my_list)\n",
    "\n",
    "my_list.sort()\n",
    "print(\"my list를 오름차순으로 정렬 = %s\" % my_list)\n",
    "\n",
    "my_list.reverse()\n",
    "print(\"my list를 역순으로 정렬 = %s\" % my_list)\n",
    "\n",
    "print(\"20 값의 위치 = %s\" % my_list.index(20)) # index(실제값)\n",
    "\n",
    "my_list.insert(2,222)\n",
    "print(\"insert(2,222) 후의 리스트 = %s\" % my_list) # insert(인덱스, 실제값)\n",
    "\n",
    "my_list.remove(222)\n",
    "print(\"remove(222)이후의 리스트 = %s\" % my_list) # remove(실제값)\n",
    "\n",
    "my_list.extend([40, 50, 10])\n",
    "print(\"extend([40, 50, 60]) 이후의 리스트 = %s\" % my_list) # extend([실제값, 실제값, 실제값])\n",
    "\n",
    "print(\"count(10)의 결과 = %s\" % my_list.count(10)) # count(실제값)"
   ]
  },
  {
   "cell_type": "markdown",
   "id": "d79ae166",
   "metadata": {},
   "source": [
    "# 이차원 리스트"
   ]
  },
  {
   "cell_type": "code",
   "execution_count": 2,
   "id": "1eacbe69",
   "metadata": {},
   "outputs": [
    {
     "name": "stdout",
     "output_type": "stream",
     "text": [
      "30\n",
      "[1, 2, 3, 4, 5]\n",
      "[1, 2, 3, 4, 5]\n",
      "[3, 6, 9, 12, 15, 18]\n",
      "[3, 6, 9, 12, 15, 18]\n"
     ]
    }
   ],
   "source": [
    "#이차원 리스트\n",
    "aa = [[10, 20, 30],\n",
    "      [40, 50, 60],\n",
    "      [70, 80, 90]] \n",
    "\n",
    "print(aa[0][2]) \n",
    "\n",
    "list1 = []\n",
    "list2 = []\n",
    "value = 1\n",
    "\n",
    "for i in range(0, 3): # 3행\n",
    "  for k in range(0, 4): # 4열 먼저 반복\n",
    "    list1.append(value)\n",
    "    value += 1            \n",
    "  list2.append(list1) #list2에는 [1,2,3,4]가 들어가고\n",
    "  list1 = [] #list1을 다시 비워놓는다\n",
    "\n",
    "#for i in range(0, 3):\n",
    "  #for k in range(0, 4):\n",
    "   # print(\"%3d\" % list[i][k], end =\" \")\n",
    "  #print(\" \")\n",
    "\n",
    "#컴프리헨션\n",
    "numList = []\n",
    "for num in range(1,6):\n",
    "  numList.append(num)\n",
    "print(numList)\n",
    "\n",
    "#이걸 한줄로\n",
    "numList = [num for num in range(1, 6)]\n",
    "print(numList)\n",
    "\n",
    "#컴프리헨션\n",
    "numList = []\n",
    "for num in range(1, 21):\n",
    "  if num % 3 == 0:\n",
    "    numList.append(num)\n",
    "print(numList)\n",
    "\n",
    "#이걸 한줄로\n",
    "numList = [num for num in range(1,21) if num % 3 == 0]\n",
    "print(numList)"
   ]
  },
  {
   "cell_type": "markdown",
   "id": "45fd6fe7",
   "metadata": {},
   "source": [
    "# 딕셔너리"
   ]
  },
  {
   "cell_type": "code",
   "execution_count": 3,
   "id": "7adce206",
   "metadata": {},
   "outputs": [
    {
     "name": "stdout",
     "output_type": "stream",
     "text": [
      "{1: 'a', 2: 'b', 3: 'c'}\n",
      "{'a': 1, 'b': 2, 'c': 3}\n",
      "{'학번': 123456789, '이름': '박영준', '학과': '정보통신공학과'}\n",
      "{'학번': 123456789, '이름': '박영준', '학과': '정보통신공학과', '전화번호': '010-1234-5678'}\n",
      "{'학번': 123456789, '이름': '박영준', '학과': '정보통신공학과'}\n",
      "{'학번': '00000000', '이름': '박영준', '학과': '정보통신공학과'}\n",
      "정보통신공학과\n",
      "정보통신공학과\n",
      "dict_keys(['학번', '이름', '학과'])\n",
      "['학번', '이름', '학과']\n",
      "dict_values(['00000000', '박영준', '정보통신공학과'])\n",
      "['00000000', '박영준', '정보통신공학과']\n",
      "dict_items([('학번', '00000000'), ('이름', '박영준'), ('학과', '정보통신공학과')])\n",
      "[('학번', '00000000'), ('이름', '박영준'), ('학과', '정보통신공학과')]\n",
      "True\n",
      "False\n",
      "이름 --> 트와이스\n",
      "구성원 수 --> 9\n",
      "데뷔 --> 서바이벌 식스틴\n",
      "대표곡 --> SIGNAL\n"
     ]
    }
   ],
   "source": [
    "#딕셔너리 : 딕셔너리는 중괄호{}로 사용하고 {키 : 값}으로 표기한다 중복은 불가하고 중복된 키는 나중에 들어온 값으로 대체된다.\n",
    "# 삭제는 del ([딕셔너리이름(키)])로 할 수 있으며 접근은 대괄호[]로 한다.\n",
    "\n",
    "dic1 = {1 : 'a', 2 : 'b', 3 : \"c\"}\n",
    "print(dic1)\n",
    "\n",
    "dic2 = {'a' : 1, \"b\" : 2, \"c\" : 3}\n",
    "print(dic2)\n",
    "\n",
    "dic3 = {\"학번\" : 123456789, \"이름\" : \"박영준\", \"학과\" : \"정보통신공학과\"}\n",
    "print(dic3)\n",
    "\n",
    "dic3[\"전화번호\"] = \"010-1234-5678\"\n",
    "print(dic3)\n",
    "\n",
    "del (dic3[\"전화번호\"])\n",
    "print(dic3)\n",
    "\n",
    "dic3[\"학번\"] = \"00000000\"\n",
    "print(dic3)\n",
    "\n",
    "print(dic3[\"학과\"]) #대괄호\n",
    "print(dic3.get(\"학과\")) #소괄호 get()은 없는 키를 넣어도 에러가 발생하지 않는다\n",
    "\n",
    "print(dic3.keys()) #딕셔너리의 모든 키를 반환한다.\n",
    "print(list(dic3.keys())) #결과값 앞에 dict_keys를 보기 싫을 때에는 list()로 묶어준다\n",
    "\n",
    "print(dic3.values()) #딕셔너리의 모든 값을 반환한다.\n",
    "print(list(dic3.values()))\n",
    "\n",
    "print(dic3.items()) #딕셔너리의 키와 값을 전부 호출\n",
    "print(list(dic3.items()))\n",
    " \n",
    "print(\"학과\" in dic3) # 값 in 딕셔너리를 통해서 그 값이 안에 들어있는지 알 수 있음\n",
    "print(\"집 주소\" in dic3)\n",
    "\n",
    "singer = {} #딕셔너리 형태의 singer 선언\n",
    "\n",
    "singer[\"이름\"] = \"트와이스\"\n",
    "singer[\"구성원 수\"] = 9\n",
    "singer[\"데뷔\"] = \"서바이벌 식스틴\"\n",
    "singer[\"대표곡\"] = \"SIGNAL\"\n",
    "\n",
    "for k in singer.keys():\n",
    "  print(\"%s --> %s\" % (k, singer[k]))"
   ]
  },
  {
   "cell_type": "markdown",
   "id": "2360b083",
   "metadata": {},
   "source": [
    "# 세트"
   ]
  },
  {
   "cell_type": "code",
   "execution_count": 4,
   "id": "080b8e18",
   "metadata": {},
   "outputs": [
    {
     "name": "stdout",
     "output_type": "stream",
     "text": [
      "{1, 2, 3, 4, 5, 6, 7}\n",
      "{'사과', '바나나', '키위'}\n",
      "{4, 5}\n",
      "{1, 2, 3, 4, 5, 6, 7}\n",
      "{1, 2, 3}\n",
      "{1, 2, 3, 6, 7}\n"
     ]
    }
   ],
   "source": [
    "#세트 : 세트는 키만 모아놓은 딕셔너리의 특수한 형태입니다. 키는 중복되면 안 되므로 세트에 들어있는 값 또한  유일합니다. 중괄호{}를 사용하고 콜론은 사용하지 않습니다.\n",
    "\n",
    "myset1 = {1, 2, 3, 4, 5, 6, 7}\n",
    "print(myset1)\n",
    "my_list = [\"바나나\", \"키위\", \"사과\" , \"바나나\"]\n",
    "print(set(my_list))\n",
    "\n",
    "#중복이 안 된다는 기능을 통해서 집합을 구할 수 있다.\n",
    "myset1 = {1, 2, 3, 4, 5}\n",
    "myset2 = {4, 5, 6, 7}\n",
    "\n",
    "print(myset1 & myset2) #교집합 예상결과 : 4 5\n",
    "print(myset1 | myset2) #합집합 예상결과 : 1 2 3 4 5 6 7\n",
    "print(myset1 - myset2) #차집합 예상결과 : 1 2 3\n",
    "print(myset1 ^ myset2) #대칭 차집합 예상결과 : 모름 = 1 2 3 6 7"
   ]
  },
  {
   "cell_type": "markdown",
   "id": "cfe00308",
   "metadata": {},
   "source": [
    "# 문자열"
   ]
  },
  {
   "cell_type": "code",
   "execution_count": 5,
   "id": "77f8b405",
   "metadata": {},
   "outputs": [
    {
     "name": "stdout",
     "output_type": "stream",
     "text": [
      "자\n",
      "료구조\n",
      "&\n",
      "알고리즘\n",
      "파이썬최고\n",
      "파이썬파이썬파이썬\n",
      "5\n",
      "2\n",
      "4\n",
      "21\n",
      "4\n",
      "21\n",
      "['파이썬을', '열심히', '공부하는', '중']\n",
      "['파이썬을', '열심히', '공부하는', '중']\n",
      "파_이_썬\n",
      "[2022, 10, 11]\n",
      "0\n",
      "200\n",
      "I#T#쿡#북\n"
     ]
    }
   ],
   "source": [
    "#문자열 : 문자열은 문자을 연속적으로 저장해놓은 것이므로 한 번 데이터를 저장해 놓으면 변경할 수 없다.\n",
    "ss = \"자료구조&알고리즘\"\n",
    "print(ss[0])\n",
    "print(ss[1:4])\n",
    "print(ss[4])\n",
    "print(ss[5:])\n",
    "\n",
    "sss = \"파이썬\" + \"최고\" #덧셈도 가능\n",
    "print(sss)\n",
    "sss = \"파이썬\" * 3 #곱셈도 가능\n",
    "print(sss)\n",
    "\n",
    "ssss = \"파 이 썬\"\n",
    "print(len(ssss)) #len()을 통해 문자열의 길이를 알 수 있다.\n",
    "\n",
    "#문자열 검색 : count() find() rfind() index() rindex()\n",
    "ss = \"파이썬 공부는 즐겁습니다. 물론 모든 공부가 다 재미있지는 않죠. ^^\"\n",
    "print(ss.count(\"공부\")) #공부가 몇번 나오는지 횟수 출력\n",
    "print(ss.find(\"공부\")) #공부가 몇번째 인덱스에 있는지 왼쪽부터 탐색해서 출력\n",
    "print(ss.rfind(\"공부\")) #공부가 몇번째 인덱스에 있는지 오른쪽부터 탐색해서 출력\n",
    "print(ss.index(\"공부\"))\n",
    "print(ss.rindex(\"공부\")) #find()와 index()함수는 동일하지만 찾을 문자열이 없으면 find()는 오류가 난다.\n",
    "\n",
    "#문자열 분리와 결합\n",
    "ss = \"파이썬을 열심히 공부하는 중\"\n",
    "print(ss.split()) #split()은 띄어쓰기마다 문자열을 나눠서 출력\n",
    "ss = \"파이썬을%열심히%공부하는%중\"\n",
    "print(ss.split(\"%\")) #split(\"%\")는 %기호마다 나눠서 문자열을 출력해준다.\n",
    "\n",
    "ss = \"_\"\n",
    "print(ss.join(\"파이썬\")) #join(\"문자열\")은 먼저 구분문자열을 정해주고join하면 문자하나하나 사이에 구분문자를 넣어서 출력해준다\n",
    "\n",
    "#문자열을 정수로 바꿔주기\n",
    "before = [\"2022\", \"10\", \"11\"]\n",
    "after = list(map(int, before))\n",
    "print(after)\n",
    "\n",
    "def fun1():\n",
    "  var = 100\n",
    "\n",
    "def fun2():\n",
    "  global var\n",
    "  var = 200\n",
    "\n",
    "var = 0\n",
    "fun1()\n",
    "print(var)\n",
    "fun2()\n",
    "print(var)\n",
    "\n",
    "myStr = \"#\"\n",
    "print(myStr.join(\"IT쿡북\"))"
   ]
  },
  {
   "cell_type": "markdown",
   "id": "6bda68de",
   "metadata": {},
   "source": [
    "# 로또 번호 자동 생성기"
   ]
  },
  {
   "cell_type": "code",
   "execution_count": 6,
   "id": "6e617fae",
   "metadata": {},
   "outputs": [
    {
     "name": "stdout",
     "output_type": "stream",
     "text": [
      "** 로또 번호 생성을 시작합니다. **\n",
      "몇 번을 뽑을까요?5\n",
      "자동번호-->   1 12 17 20 31 34 \n",
      "자동번호-->  15 18 24 31 33 35 \n",
      "자동번호-->   7  8 11 18 28 39 \n",
      "자동번호-->   6  9 10 20 36 40 \n",
      "자동번호-->   8 25 30 35 40 45 \n"
     ]
    }
   ],
   "source": [
    "# 1~45 숫자 중에서 6개를 고르는 로또 번호를 자동으로 만들어 주는 프로그램을 작성하자. 사용자가 입력한 개수만큼 번호 쌍을 생성해 주는 기능을 한다.\n",
    "import random\n",
    "\n",
    "#전역 변수\n",
    "totalLotto = []\n",
    "lotto = []\n",
    "pickNum = 0\n",
    "count = 0\n",
    "\n",
    "#메인\n",
    "print(\"** 로또 번호 생성을 시작합니다. **\")\n",
    "count = int(input(\"몇 번을 뽑을까요?\"))\n",
    "\n",
    "#번호 생성과 반복\n",
    "for i in range(0,count,1):\n",
    "  lotto = [] # 1줄의 로또 번호를 담을 lotto[]\n",
    "  while True:\n",
    "    pickNum = random.randint(1, 45)\n",
    "    if pickNum not in lotto: #만약 뽑은 숫자가 lotto[]안에 존재하지 않으면\n",
    "      lotto.append(pickNum)\n",
    "    if len(lotto) >= 6:\n",
    "      break\n",
    "  totalLotto.append(lotto)\n",
    "\n",
    "for lotto in totalLotto: \n",
    "  lotto.sort()\n",
    "  print(\"자동번호--> \", end = ' ')\n",
    "  for i in range(0, 6):\n",
    "    print(\"%2d\" % lotto[i], end = \" \")\n",
    "  print() #줄바꿈"
   ]
  },
  {
   "cell_type": "markdown",
   "id": "d4a70b83",
   "metadata": {},
   "source": [
    "# 문자 갯수 출력"
   ]
  },
  {
   "cell_type": "code",
   "execution_count": 8,
   "id": "2ec874bb",
   "metadata": {},
   "outputs": [
    {
     "name": "stdout",
     "output_type": "stream",
     "text": [
      "원문  \n",
      "나 보기가 역겨워 가실 때에는 말없이 고이 보내 드리오리다\n",
      "영변에 약산 진달래꽃 아름 따다 가실 길에 뿌리오리다\n",
      "가시는 걸음 걸음 놓인 그 꽃을 사뿐히 즈려 밟고 가시옵소서\n",
      "나 보기가 역겨워 가실 떄에는 죽어도 아니 눈물 흘리오리다\n",
      "\n",
      "------------\n",
      "문자 빈도수(4회 이상)\n",
      "------------\n",
      "가 --> 7\n",
      "에 --> 4\n",
      "리 --> 6\n",
      "다 --> 4\n"
     ]
    }
   ],
   "source": [
    "#김소월의 진달래꽃 시에서 4회 이상 나온 글자를 센다. 단 영문/한글만 해당하고, 그 외는 인정하지 않는다.\n",
    "poet = ''' \n",
    "나 보기가 역겨워 가실 때에는 말없이 고이 보내 드리오리다\n",
    "영변에 약산 진달래꽃 아름 따다 가실 길에 뿌리오리다\n",
    "가시는 걸음 걸음 놓인 그 꽃을 사뿐히 즈려 밟고 가시옵소서\n",
    "나 보기가 역겨워 가실 떄에는 죽어도 아니 눈물 흘리오리다\n",
    "'''\n",
    "\n",
    "countDic = {\"나\" : 1, }\n",
    "\n",
    "if __name__ == \"__main__\": \n",
    "  for ch in poet: #문자열에서 한글자씩 추출해서 반복한다.\n",
    "    if ch.isalpha(): #isalpha()는 해당자리가 알파벳이나 한글인지 판단해서 true or false를 반환해줍니다.\n",
    "      if ch in countDic: #만약 ch가 countDic안에 존재하면\n",
    "        countDic[ch] += 1\n",
    "      else: #첫 글자들은 모두 존재하지 않으므로 \n",
    "        countDic[ch] = 1 #countDic[\"나\"] = 1 이런식으로 추가해줌\n",
    "\n",
    "  print(\"원문\", poet)\n",
    "  print(\"------------\")\n",
    "  print(\"문자 빈도수(4회 이상)\")\n",
    "  print(\"------------\")\n",
    "\n",
    "  for key in countDic:\n",
    "    if countDic[key] >= 4:\n",
    "      print(key, \"-->\", countDic[key])"
   ]
  },
  {
   "cell_type": "code",
   "execution_count": null,
   "id": "19b14b4c",
   "metadata": {},
   "outputs": [],
   "source": []
  }
 ],
 "metadata": {
  "kernelspec": {
   "display_name": "Python 3 (ipykernel)",
   "language": "python",
   "name": "python3"
  },
  "language_info": {
   "codemirror_mode": {
    "name": "ipython",
    "version": 3
   },
   "file_extension": ".py",
   "mimetype": "text/x-python",
   "name": "python",
   "nbconvert_exporter": "python",
   "pygments_lexer": "ipython3",
   "version": "3.9.12"
  }
 },
 "nbformat": 4,
 "nbformat_minor": 5
}
