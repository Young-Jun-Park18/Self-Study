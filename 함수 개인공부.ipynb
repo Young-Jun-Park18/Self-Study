{
 "cells": [
  {
   "cell_type": "markdown",
   "id": "9e7de14b",
   "metadata": {},
   "source": [
    "# 함수 개인공부"
   ]
  },
  {
   "cell_type": "code",
   "execution_count": 1,
   "id": "aceb4ea9",
   "metadata": {},
   "outputs": [
    {
     "name": "stdout",
     "output_type": "stream",
     "text": [
      "입금이 완료되었습니다. 잔액은 200000 원입니다.\n",
      "출금이 완료되었습니다. 잔액은 190000원 입니다.\n",
      "출금이 완료되었습니다. 잔액은 180000원 입니다.\n",
      "수수료는 100원이고, 잔액은 178000원 입니다.\n",
      "이름은 유재석, 나이는20, 주로 사용하는 언어는 파이썬입니다.\n",
      "이름은 김태호, 나이는25, 주로 사용하는 언어는 자바입니다.\n",
      "이름은 유재석, 나이는 19, 주사용 언어는파이썬입니다.\n",
      "유재석 20 파이썬\n",
      "이름은 김태호, 나이는25, 주로 사용하는 언어는 자바입니다.\n",
      "이름 : 유재석, 나이 : 20 Python Java C C++ C# JavaScript \n",
      "키를 입력하시오(cm) : 170\n",
      "성별을 입력하시오(man or woman) : man\n",
      "키 170cm 남자의 표준 체중은 63.58kg 입니다.\n"
     ]
    },
    {
     "data": {
      "text/plain": [
       "63.58"
      ]
     },
     "execution_count": 1,
     "metadata": {},
     "output_type": "execute_result"
    }
   ],
   "source": [
    "#여기서부터는 전달값과 반환값의 대한 강의입니다.\n",
    "def open_account(): #함수를 정의할 때에는 definition의 약자의 def를 써주고 함수이름(): 콜론까지 써준다.\n",
    "  print(\"새로운 계좌가 개설됐습니다.\")\n",
    "\n",
    "def deposit(balance, input_money):#입금\n",
    "  print(\"입금이 완료되었습니다. 잔액은 {} 원입니다.\".format(balance + input_money))\n",
    "  return balance + input_money\n",
    "\n",
    "balance = 0\n",
    "balance = deposit(balance, 200000)\n",
    "\n",
    "def withdraw(balance, money): #출금\n",
    "  if balance >= money:\n",
    "    print(\"출금이 완료되었습니다. 잔액은 {0}원 입니다.\".format(balance - money))\n",
    "    return balance - money\n",
    "  else:\n",
    "    print(\"잔액이 부족합니다. 잔액은 {0}원 입니다.\".format(balance))\n",
    "    return balance\n",
    "\n",
    "balance = withdraw(balance, 10000)\n",
    "balance = withdraw(balance, 10000)\n",
    "\n",
    "def withdraw_night(balance, money): #저녁출금\n",
    "  commission = 100 #수수료\n",
    "  return commission, balance - money - commission\n",
    "\n",
    "commission, balance = withdraw_night(balance, 1900)\n",
    "\n",
    "print(\"수수료는 {0}원이고, 잔액은 {1}원 입니다.\".format(commission, balance))\n",
    "\n",
    "def profile(name, age, main_lang):\n",
    "  print(\"이름은 {0}, 나이는{1}, 주로 사용하는 언어는 {2}입니다.\".format(name, age, main_lang))\n",
    "\n",
    "profile(\"유재석\", 20, \"파이썬\")\n",
    "profile(\"김태호\", 25, \"자바\")\n",
    "#기본값 설정하는 법 = 함수를 정의할 때 값을 넣는다.\n",
    "def profile2(name, age = 19, main_lang = \"파이썬\"):\n",
    "  print(\"이름은 {0}, 나이는 {1}, 주사용 언어는{2}입니다.\".format(name, age, main_lang))\n",
    "\n",
    "profile2(\"유재석\")\n",
    "\n",
    "\n",
    "\n",
    "#키워드 값을 사용한 함수 호출\n",
    "def profile3(name, age, main_lang):\n",
    "  print(name, age, main_lang)\n",
    "\n",
    "profile3(name = \"유재석\", main_lang=\"파이썬\", age = 20)\n",
    "profile(main_lang =\"자바\", age = 25, name = \"김태호\")\n",
    "\n",
    "\n",
    "\n",
    "#가변인자 = *변수이름\n",
    "def profile4(name, age, *language):\n",
    "  print(\"이름 : {0}, 나이 : {1}\".format(name, age), end = \" \")\n",
    "  for lang in language:\n",
    "    print(lang, end=\" \")\n",
    "  print()\n",
    "\n",
    "profile4(\"유재석\", 20, \"Python\", \"Java\", \"C\", \"C++\", \"C#\", \"JavaScript\")\n",
    "\n",
    "\n",
    "\n",
    "\n",
    "#Quiz) 표준 체중을 구하는 프로그램을 작성하시오\n",
    "# 표준 체중 : 각 개인의 키에 적당한 체중\n",
    "#(성별에 따른 공식)\n",
    "#남자 = 키(m) x 키(m) x 22\n",
    "#여자 = 키(m) x 키(m) x 21\n",
    "#조건1 : 표준 체중은 별도의 함수 내에서 계산\n",
    "#       *함수명 std_weight\n",
    "#       *전달값 : 키(height), 성별(gender)\n",
    "#조건2 : 표준 체중은 소수점 둘째자리까지 표시\n",
    "#(출력 예제) : 키 175cm 남자의 표준 체중은 67.38kg입니다.\n",
    "\n",
    "def std_weight(height, gender):\n",
    "  if gender == \"man\":\n",
    "    M_std_weight = 0\n",
    "    M_std_weight = round((height/100) * (height/100) * 22, 2) #라운드 함수를 사용하면 round(x, 몇째짜리까지표시할꺼?)로 변경가능\n",
    "    print(\"키 {0}cm 남자의 표준 체중은 {1}kg 입니다.\".format(height, M_std_weight))\n",
    "    return M_std_weight\n",
    "  elif gender == \"woman\":\n",
    "    W_std_weight = 0\n",
    "    W_std_weight = round((height/100) * (height/100) * 21, 2)\n",
    "    print(\"키 {0}cm 여자의 표준 체중은 {1}kg 입니다.\".format(height, W_std_weight))\n",
    "    return W_std_weight\n",
    "\n",
    "height = int(input(\"키를 입력하시오(cm) : \"))\n",
    "gender = input(\"성별을 입력하시오(man or woman) : \")\n",
    "std_weight(height, gender)"
   ]
  }
 ],
 "metadata": {
  "kernelspec": {
   "display_name": "Python 3 (ipykernel)",
   "language": "python",
   "name": "python3"
  },
  "language_info": {
   "codemirror_mode": {
    "name": "ipython",
    "version": 3
   },
   "file_extension": ".py",
   "mimetype": "text/x-python",
   "name": "python",
   "nbconvert_exporter": "python",
   "pygments_lexer": "ipython3",
   "version": "3.9.7"
  }
 },
 "nbformat": 4,
 "nbformat_minor": 5
}
