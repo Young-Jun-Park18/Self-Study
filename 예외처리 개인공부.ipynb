{
 "cells": [
  {
   "cell_type": "markdown",
   "id": "d786d14e",
   "metadata": {},
   "source": [
    "# 표준 입출력 개인공부"
   ]
  },
  {
   "cell_type": "code",
   "execution_count": null,
   "id": "bc4502ff",
   "metadata": {},
   "outputs": [],
   "source": [
    "print(\"Python\", \"Java\", sep = \",\", end =\"\")\n",
    "print(\"무엇이 더 재밌을까요?\")\n",
    "\n",
    "scores = {\"수학\":0, \"영어\":50, \"코딩\":100}\n",
    "for subject, score in scores.items():\n",
    "#.ljust(값) = 값만큼 칸을 확보하고 왼쪽 정렬 .rjust(값) = 값만큼 칸을 확보하고 오른쪽 정렬\n",
    "  print(subject.ljust(8), str(score).rjust(4), sep=\";\")\n",
    "\n",
    "for num in range(1,21):\n",
    "  #.zfill(값) = 값만큼 공간을 확보하고 빈칸은 0으로 채워주자\n",
    "  print(\"대기번호 : \" + str(num).zfill(3))\n",
    "\n",
    "print(\"{0: >10}\".format(500))\n",
    "#{: >10}의 의미는 10칸을 확보하고 오른쪽 정렬한다\n",
    "print(\"{0: >+10}\".format(500))\n",
    "print(\"{0:_<+10}\".format(500))\n",
    "print(\"{0:^<+30,}\".format(100000000))\n",
    "#빈칸의 형식이 제일 앞, 정렬 방향, 부호, 칸 확보, 콤마 순서로 온다"
   ]
  },
  {
   "cell_type": "markdown",
   "id": "93d2a66e",
   "metadata": {},
   "source": [
    "# 예외처리 개인공부"
   ]
  },
  {
   "cell_type": "code",
   "execution_count": 2,
   "id": "92ee20c8",
   "metadata": {},
   "outputs": [
    {
     "ename": "SyntaxError",
     "evalue": "invalid syntax (Temp/ipykernel_16072/3254736453.py, line 19)",
     "output_type": "error",
     "traceback": [
      "\u001b[1;36m  File \u001b[1;32m\"C:\\Users\\HP1\\AppData\\Local\\Temp/ipykernel_16072/3254736453.py\"\u001b[1;36m, line \u001b[1;32m19\u001b[0m\n\u001b[1;33m    num1 =\u001b[0m\n\u001b[1;37m           ^\u001b[0m\n\u001b[1;31mSyntaxError\u001b[0m\u001b[1;31m:\u001b[0m invalid syntax\n"
     ]
    }
   ],
   "source": [
    "#예외 처리를 하는 방법\n",
    "try:\n",
    "  print(\"나누기 전용 계산기입니다.\")\n",
    "  nums = []\n",
    "  nums.append(int(input(\"첫 번째 숫자를 입력하세요 : \")))\n",
    "  nums.append(int(input(\"두 번째 숫자를 입력하세요 : \")))\n",
    "  nums.append(int(nums[0]/ nums[1]))\n",
    "  print(\"{0} / {1} = {2}\".format(nums[0], nums[1], nums[2]))\n",
    "except ValueError:\n",
    "  print(\"에러! 잘못된 값을 입력하셨습니다.\")\n",
    "except ZeroDivisionError as err:\n",
    "  print(err)\n",
    "except Exception as arr:\n",
    "  print(\"알 수 없는 에러가 발생하였습니다.\")\n",
    "  print(err)\n",
    "\n",
    "try:\n",
    "  print(\"한 자리 숫자 나누기 전용 계산기입니다.\")\n",
    "  num1 = "
   ]
  },
  {
   "cell_type": "code",
   "execution_count": 3,
   "id": "98e065c4",
   "metadata": {},
   "outputs": [],
   "source": [
    "# 아직 보충이 필요함"
   ]
  }
 ],
 "metadata": {
  "kernelspec": {
   "display_name": "Python 3 (ipykernel)",
   "language": "python",
   "name": "python3"
  },
  "language_info": {
   "codemirror_mode": {
    "name": "ipython",
    "version": 3
   },
   "file_extension": ".py",
   "mimetype": "text/x-python",
   "name": "python",
   "nbconvert_exporter": "python",
   "pygments_lexer": "ipython3",
   "version": "3.9.7"
  }
 },
 "nbformat": 4,
 "nbformat_minor": 5
}
